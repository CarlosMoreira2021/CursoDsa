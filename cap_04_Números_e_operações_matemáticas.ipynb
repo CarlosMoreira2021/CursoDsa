{
  "nbformat": 4,
  "nbformat_minor": 0,
  "metadata": {
    "colab": {
      "provenance": [],
      "authorship_tag": "ABX9TyO+S5trnRmH8yaioq0JDe4L",
      "include_colab_link": true
    },
    "kernelspec": {
      "name": "python3",
      "display_name": "Python 3"
    },
    "language_info": {
      "name": "python"
    }
  },
  "cells": [
    {
      "cell_type": "markdown",
      "metadata": {
        "id": "view-in-github",
        "colab_type": "text"
      },
      "source": [
        "<a href=\"https://colab.research.google.com/github/CarlosMoreira2021/CursoDsa/blob/main/cap_04_N%C3%BAmeros_e_opera%C3%A7%C3%B5es_matem%C3%A1ticas.ipynb\" target=\"_parent\"><img src=\"https://colab.research.google.com/assets/colab-badge.svg\" alt=\"Open In Colab\"/></a>"
      ]
    },
    {
      "cell_type": "markdown",
      "source": [
        "Operações aritmeticas"
      ],
      "metadata": {
        "id": "WaeHf-YS5XbL"
      }
    },
    {
      "cell_type": "code",
      "execution_count": null,
      "metadata": {
        "id": "Auf9jl6s33kn"
      },
      "outputs": [],
      "source": [
        "#soma\n",
        "4+4"
      ]
    },
    {
      "cell_type": "code",
      "source": [
        "#subtração\n",
        "4-3"
      ],
      "metadata": {
        "id": "Ycd744Zq51EC"
      },
      "execution_count": null,
      "outputs": []
    },
    {
      "cell_type": "code",
      "source": [
        "#multiplicação\n",
        "3*3"
      ],
      "metadata": {
        "id": "HIxMt-Ic53Vk"
      },
      "execution_count": null,
      "outputs": []
    },
    {
      "cell_type": "code",
      "source": [
        "#divisao\n",
        "3/2"
      ],
      "metadata": {
        "id": "zrN7BJCK56s-"
      },
      "execution_count": null,
      "outputs": []
    },
    {
      "cell_type": "code",
      "source": [
        "#potencia\n",
        "4 **2"
      ],
      "metadata": {
        "id": "ALEK69hm59oU"
      },
      "execution_count": null,
      "outputs": []
    },
    {
      "cell_type": "code",
      "source": [
        "#modulo(resto da divisao)\n",
        "10%3"
      ],
      "metadata": {
        "id": "GPOpRRfs6AfK"
      },
      "execution_count": null,
      "outputs": []
    },
    {
      "cell_type": "markdown",
      "source": [
        "Funcoes type"
      ],
      "metadata": {
        "id": "pHwMYiqg6Fdk"
      }
    },
    {
      "cell_type": "code",
      "source": [
        "type(5)"
      ],
      "metadata": {
        "id": "hxk1btAD6H8O"
      },
      "execution_count": null,
      "outputs": []
    },
    {
      "cell_type": "code",
      "source": [
        "type(\"teste\")"
      ],
      "metadata": {
        "id": "PW2-U38o6K_n"
      },
      "execution_count": null,
      "outputs": []
    },
    {
      "cell_type": "code",
      "source": [
        "type(5.0)"
      ],
      "metadata": {
        "id": "oXIMqj016Ni-"
      },
      "execution_count": null,
      "outputs": []
    },
    {
      "cell_type": "code",
      "source": [
        "type(True)"
      ],
      "metadata": {
        "id": "DpHRt4k16PcC"
      },
      "execution_count": null,
      "outputs": []
    },
    {
      "cell_type": "markdown",
      "source": [
        "Operacoes com numeros float"
      ],
      "metadata": {
        "id": "sZM19R916TBq"
      }
    },
    {
      "cell_type": "code",
      "source": [
        "3.1 + 6.4"
      ],
      "metadata": {
        "id": "2zz5RKoT6ViD"
      },
      "execution_count": null,
      "outputs": []
    },
    {
      "cell_type": "code",
      "source": [
        "4 + 4.0"
      ],
      "metadata": {
        "id": "RfC3Kjss6dxP"
      },
      "execution_count": null,
      "outputs": []
    },
    {
      "cell_type": "code",
      "source": [
        "#Resultado e um numero float\n",
        "4 / 2"
      ],
      "metadata": {
        "id": "cskTc3gH6hy5"
      },
      "execution_count": null,
      "outputs": []
    },
    {
      "cell_type": "code",
      "source": [
        "#Resultado e um numero inteiro\n",
        "4 // 2"
      ],
      "metadata": {
        "id": "POXmqXe16rGV"
      },
      "execution_count": null,
      "outputs": []
    },
    {
      "cell_type": "markdown",
      "source": [
        "Conversao"
      ],
      "metadata": {
        "id": "rQyEC8sz7JVO"
      }
    },
    {
      "cell_type": "code",
      "source": [
        "float(9)"
      ],
      "metadata": {
        "id": "SkyFhijq7K3C"
      },
      "execution_count": null,
      "outputs": []
    },
    {
      "cell_type": "code",
      "source": [
        "int(6.0)"
      ],
      "metadata": {
        "id": "iMzwOPnX7M24"
      },
      "execution_count": null,
      "outputs": []
    },
    {
      "cell_type": "code",
      "source": [
        "int(6.5)"
      ],
      "metadata": {
        "id": "odl4gNEn7OUo"
      },
      "execution_count": null,
      "outputs": []
    },
    {
      "cell_type": "markdown",
      "source": [
        "hexadecimal e binario"
      ],
      "metadata": {
        "id": "pUprV77q7VYd"
      }
    },
    {
      "cell_type": "code",
      "source": [
        "hex(394)"
      ],
      "metadata": {
        "id": "SZxBldwg7U8n"
      },
      "execution_count": null,
      "outputs": []
    },
    {
      "cell_type": "code",
      "source": [
        "hex(217)"
      ],
      "metadata": {
        "id": "XuY4LS6s7Zhx"
      },
      "execution_count": null,
      "outputs": []
    },
    {
      "cell_type": "code",
      "source": [
        "bin(286)"
      ],
      "metadata": {
        "id": "-IZZ_F5e7bMn"
      },
      "execution_count": null,
      "outputs": []
    },
    {
      "cell_type": "code",
      "source": [
        "bin(390)"
      ],
      "metadata": {
        "id": "t0HnzhjP7cy5"
      },
      "execution_count": null,
      "outputs": []
    },
    {
      "cell_type": "markdown",
      "source": [
        "Funcoes abs, round e pow"
      ],
      "metadata": {
        "id": "oqmoTID97ld5"
      }
    },
    {
      "cell_type": "code",
      "source": [
        "#Retorna valor absoluto\n",
        "abs(-8)"
      ],
      "metadata": {
        "id": "D2Dz22LS7oA4"
      },
      "execution_count": null,
      "outputs": []
    },
    {
      "cell_type": "code",
      "source": [
        "# Retorna o valor com duas casas decimais\n",
        "round(3.14151922,2)"
      ],
      "metadata": {
        "id": "ujEFZPv270S5"
      },
      "execution_count": null,
      "outputs": []
    },
    {
      "cell_type": "code",
      "source": [
        "#potencia\n",
        "pow(4,2)"
      ],
      "metadata": {
        "id": "Wsgy9jJR8EHu"
      },
      "execution_count": null,
      "outputs": []
    },
    {
      "cell_type": "code",
      "source": [
        "#Potencia\n",
        "pow(5,3)"
      ],
      "metadata": {
        "id": "7mHL6bNW8G_k"
      },
      "execution_count": null,
      "outputs": []
    }
  ]
}