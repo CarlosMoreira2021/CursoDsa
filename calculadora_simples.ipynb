{
  "nbformat": 4,
  "nbformat_minor": 0,
  "metadata": {
    "colab": {
      "provenance": [],
      "authorship_tag": "ABX9TyMzFaq07daOf7NM2TzbOMzn",
      "include_colab_link": true
    },
    "kernelspec": {
      "name": "python3",
      "display_name": "Python 3"
    },
    "language_info": {
      "name": "python"
    }
  },
  "cells": [
    {
      "cell_type": "markdown",
      "metadata": {
        "id": "view-in-github",
        "colab_type": "text"
      },
      "source": [
        "<a href=\"https://colab.research.google.com/github/CarlosMoreira2021/CursoDsa/blob/main/calculadora_simples.ipynb\" target=\"_parent\"><img src=\"https://colab.research.google.com/assets/colab-badge.svg\" alt=\"Open In Colab\"/></a>"
      ]
    },
    {
      "cell_type": "code",
      "execution_count": 16,
      "metadata": {
        "colab": {
          "base_uri": "https://localhost:8080/"
        },
        "id": "uSGLfAZmYYlo",
        "outputId": "fb1efd5a-717e-4741-9f25-a06d77dd969f"
      },
      "outputs": [
        {
          "output_type": "stream",
          "name": "stdout",
          "text": [
            "Calculadora Simples\n",
            "Escolha um numero: 5\n",
            "Escolha outro numero: 5\n",
            "Escolha o calculo expressão desejada: \n",
            "(-) pressione 1\n",
            "(+) pressione 2\n",
            "(/) pressione 3\n",
            "(*) pressione 4\n",
            "(cancelar) pressione 5\n",
            "2\n",
            " 5 + 5 = 10\n"
          ]
        }
      ],
      "source": [
        "print(\"Calculadora Simples\")\n",
        "\n",
        "n1 = int(input(\"Escolha um numero: \"))\n",
        "n2 = int(input(\"Escolha outro numero: \"))\n",
        "\n",
        "while True:\n",
        "  print(\"Escolha o calculo expressão desejada: \")\n",
        "  print(\"(-) pressione 1\")\n",
        "  print(\"(+) pressione 2\")\n",
        "  print(\"(/) pressione 3\")\n",
        "  print(\"(*) pressione 4\")\n",
        "  print(\"(cancelar) pressione 5\")\n",
        "\n",
        "  expressao = int(input())\n",
        "\n",
        "  if (expressao == 1):\n",
        "      resultado = n1 - n2\n",
        "      print(f'{n1} - {n2} = {resultado}')\n",
        "      break\n",
        "\n",
        "  elif (expressao == 2):\n",
        "      resultado = n1 + n2\n",
        "      print(f'{n1} + {n2} = {resultado}')\n",
        "      break\n",
        "\n",
        "  elif (expressao == 3):\n",
        "      resultado = n1 / n2\n",
        "      print(f'{n1} / {n2} = {resultado}')\n",
        "      break\n",
        "\n",
        "  elif (expressao == 4):\n",
        "      resultado = n1 * n2\n",
        "      print(f'{n1} * {n2} = {resultado}')\n",
        "      break\n",
        "\n",
        "  elif (expressao == 5):\n",
        "      print(\"programa cancelado\")\n",
        "      break\n",
        "\n",
        "  elif (expressao != 1 and expressao != 2 and expressao != 3 and expressao != 4 and expressao != 5):\n",
        "    print(\"Opcao invalida\")\n",
        "    continue\n",
        "\n",
        "\n",
        "\n",
        "\n",
        "\n",
        "\n",
        "\n",
        "\n"
      ]
    }
  ]
}