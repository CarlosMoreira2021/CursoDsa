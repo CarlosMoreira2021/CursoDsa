{
  "nbformat": 4,
  "nbformat_minor": 0,
  "metadata": {
    "colab": {
      "provenance": [],
      "authorship_tag": "ABX9TyM6V0GpSy/yVKqeIvEBUhcR",
      "include_colab_link": true
    },
    "kernelspec": {
      "name": "python3",
      "display_name": "Python 3"
    },
    "language_info": {
      "name": "python"
    }
  },
  "cells": [
    {
      "cell_type": "markdown",
      "metadata": {
        "id": "view-in-github",
        "colab_type": "text"
      },
      "source": [
        "<a href=\"https://colab.research.google.com/github/CarlosMoreira2021/CursoDsa/blob/main/Cap_04_Declara%C3%A7%C3%A3o_m%C3%BAltipla_.ipynb\" target=\"_parent\"><img src=\"https://colab.research.google.com/assets/colab-badge.svg\" alt=\"Open In Colab\"/></a>"
      ]
    },
    {
      "cell_type": "markdown",
      "source": [
        "Declaração *multipla*"
      ],
      "metadata": {
        "id": "wPXaoqwV9VDY"
      }
    },
    {
      "cell_type": "code",
      "execution_count": 9,
      "metadata": {
        "id": "sUMQtJk_8zp2"
      },
      "outputs": [],
      "source": [
        "pessoa1, pessoa2, pessoa3 = \"Bob\", \"Maria\", \"Ana\""
      ]
    },
    {
      "cell_type": "code",
      "source": [
        "pessoa1"
      ],
      "metadata": {
        "colab": {
          "base_uri": "https://localhost:8080/",
          "height": 35
        },
        "id": "FoYJZS4691ZP",
        "outputId": "05204d00-8d57-4f93-9dab-22bc7e6a9628"
      },
      "execution_count": 2,
      "outputs": [
        {
          "output_type": "execute_result",
          "data": {
            "text/plain": [
              "'Bob'"
            ],
            "application/vnd.google.colaboratory.intrinsic+json": {
              "type": "string"
            }
          },
          "metadata": {},
          "execution_count": 2
        }
      ]
    },
    {
      "cell_type": "code",
      "source": [
        "pessoa2"
      ],
      "metadata": {
        "colab": {
          "base_uri": "https://localhost:8080/",
          "height": 35
        },
        "id": "4Qj1aVXh93HC",
        "outputId": "a67904b3-4a72-4906-e052-fa93c856a64e"
      },
      "execution_count": 3,
      "outputs": [
        {
          "output_type": "execute_result",
          "data": {
            "text/plain": [
              "'Maria'"
            ],
            "application/vnd.google.colaboratory.intrinsic+json": {
              "type": "string"
            }
          },
          "metadata": {},
          "execution_count": 3
        }
      ]
    },
    {
      "cell_type": "code",
      "source": [
        "pessoa3"
      ],
      "metadata": {
        "colab": {
          "base_uri": "https://localhost:8080/",
          "height": 35
        },
        "id": "ggrQMlnZ94I4",
        "outputId": "f2cd179e-e226-4e39-c318-aea819239f7c"
      },
      "execution_count": 4,
      "outputs": [
        {
          "output_type": "execute_result",
          "data": {
            "text/plain": [
              "'Ana'"
            ],
            "application/vnd.google.colaboratory.intrinsic+json": {
              "type": "string"
            }
          },
          "metadata": {},
          "execution_count": 4
        }
      ]
    },
    {
      "cell_type": "code",
      "source": [
        "fruta1 = fruta2 = fruta3 = \"Melancia\""
      ],
      "metadata": {
        "id": "KJYqsCsN99S0"
      },
      "execution_count": 5,
      "outputs": []
    },
    {
      "cell_type": "code",
      "source": [
        "fruta1"
      ],
      "metadata": {
        "colab": {
          "base_uri": "https://localhost:8080/",
          "height": 35
        },
        "id": "rsxDikoY-B2F",
        "outputId": "6f969ca7-e428-4db3-a6c8-d52260f50d47"
      },
      "execution_count": 6,
      "outputs": [
        {
          "output_type": "execute_result",
          "data": {
            "text/plain": [
              "'Melancia'"
            ],
            "application/vnd.google.colaboratory.intrinsic+json": {
              "type": "string"
            }
          },
          "metadata": {},
          "execution_count": 6
        }
      ]
    },
    {
      "cell_type": "code",
      "source": [
        "fruta2"
      ],
      "metadata": {
        "colab": {
          "base_uri": "https://localhost:8080/",
          "height": 35
        },
        "id": "POdzfiZP-VUZ",
        "outputId": "0bc954c0-cf62-4c01-91d1-8796658ad355"
      },
      "execution_count": 7,
      "outputs": [
        {
          "output_type": "execute_result",
          "data": {
            "text/plain": [
              "'Melancia'"
            ],
            "application/vnd.google.colaboratory.intrinsic+json": {
              "type": "string"
            }
          },
          "metadata": {},
          "execution_count": 7
        }
      ]
    },
    {
      "cell_type": "code",
      "source": [
        "fruta3"
      ],
      "metadata": {
        "colab": {
          "base_uri": "https://localhost:8080/",
          "height": 35
        },
        "id": "TMT9Kx0W-XdT",
        "outputId": "f42955a7-f0ac-41a9-a661-734dec7d845b"
      },
      "execution_count": 8,
      "outputs": [
        {
          "output_type": "execute_result",
          "data": {
            "text/plain": [
              "'Melancia'"
            ],
            "application/vnd.google.colaboratory.intrinsic+json": {
              "type": "string"
            }
          },
          "metadata": {},
          "execution_count": 8
        }
      ]
    },
    {
      "cell_type": "markdown",
      "source": [
        "Variaveis atribuidas e Outras Variaveis e Ordem dos Operadores"
      ],
      "metadata": {
        "id": "_D72qGGc-fjt"
      }
    },
    {
      "cell_type": "code",
      "source": [
        "largura = 4\n",
        "altura = 2\n",
        "\n",
        "area = largura * altura\n",
        "\n",
        "area\n",
        "\n",
        "perimetro = 2 * largura + 2 * altura\n",
        "\n",
        "perimetro\n",
        "\n"
      ],
      "metadata": {
        "id": "NRKc0a-I_HhX"
      },
      "execution_count": null,
      "outputs": []
    },
    {
      "cell_type": "code",
      "source": [
        "#A ordem dos operadores é a mesma seguida na Matematica\n",
        "perimetro = 2 * (largura + 2) * altura\n",
        "\n",
        "perimetro"
      ],
      "metadata": {
        "id": "7MEEwn_s_-3L"
      },
      "execution_count": null,
      "outputs": []
    }
  ]
}