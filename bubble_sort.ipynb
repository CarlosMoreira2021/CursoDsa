{
  "nbformat": 4,
  "nbformat_minor": 0,
  "metadata": {
    "colab": {
      "provenance": [],
      "authorship_tag": "ABX9TyP8gG8cJG13004AyUTt222r",
      "include_colab_link": true
    },
    "kernelspec": {
      "name": "python3",
      "display_name": "Python 3"
    },
    "language_info": {
      "name": "python"
    }
  },
  "cells": [
    {
      "cell_type": "markdown",
      "metadata": {
        "id": "view-in-github",
        "colab_type": "text"
      },
      "source": [
        "<a href=\"https://colab.research.google.com/github/CarlosMoreira2021/CursoDsa/blob/main/bubble_sort.ipynb\" target=\"_parent\"><img src=\"https://colab.research.google.com/assets/colab-badge.svg\" alt=\"Open In Colab\"/></a>"
      ]
    },
    {
      "cell_type": "code",
      "execution_count": 1,
      "metadata": {
        "colab": {
          "base_uri": "https://localhost:8080/"
        },
        "id": "dxK3t3HP0gzd",
        "outputId": "1a0da990-6770-4bfa-bd9d-6a7e97649f2b"
      },
      "outputs": [
        {
          "output_type": "stream",
          "name": "stdout",
          "text": [
            "[3, 4, 5, 12, 22, 23, 31, 61]\n"
          ]
        }
      ],
      "source": [
        "\n",
        "lista = [12,3,4,5,61,23,22,31]\n",
        "\n",
        "\n",
        "def bubble_sort(arr):\n",
        "  n= len(arr)\n",
        "  #Para cada elemento i do array\n",
        "  for i in range(n):\n",
        "    for j in range(0, n-i-1):\n",
        "      if arr[j] > arr[j+1]:\n",
        "        arr[j],arr[j+1] = arr[j+1], arr[j]\n",
        "  return arr\n",
        "\n",
        "print(bubble_sort(lista))"
      ]
    }
  ]
}